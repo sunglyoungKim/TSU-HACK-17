{
 "cells": [
  {
   "cell_type": "markdown",
   "metadata": {},
   "source": [
    "# The Best Team \n",
    "### Team Members\n",
    "Fangshu"
   ]
  },
  {
   "cell_type": "code",
   "execution_count": 4,
   "metadata": {},
   "outputs": [
    {
     "name": "stdout",
     "output_type": "stream",
     "text": [
      "Populating the interactive namespace from numpy and matplotlib\n"
     ]
    }
   ],
   "source": [
    "from __future__ import print_function\n",
    "import numpy as np\n",
    "from scipy import stats\n",
    "import pandas as pd\n",
    "import matplotlib.pyplot as pl\n",
    "\n",
    "%pylab inline"
   ]
  },
  {
   "cell_type": "markdown",
   "metadata": {},
   "source": [
    "# Read in data frokm Mohit's folder"
   ]
  },
  {
   "cell_type": "code",
   "execution_count": 9,
   "metadata": {},
   "outputs": [
    {
     "name": "stdout",
     "output_type": "stream",
     "text": [
      "sonycnode-b827eb0d8af7.sonyc-2017-01.csv\r\n",
      "sonycnode-b827eb2a1bce.sonyc-2017-01.csv\r\n"
     ]
    }
   ],
   "source": [
    "# Check files in folder\n",
    "! ls /scratch/share/mohitsharma44/cusp-hack-17/"
   ]
  },
  {
   "cell_type": "code",
   "execution_count": 32,
   "metadata": {},
   "outputs": [
    {
     "name": "stderr",
     "output_type": "stream",
     "text": [
      "/opt/rh/anaconda/root/envs/PUI2016_Python3/lib/python3.5/site-packages/IPython/core/interactiveshell.py:2717: DtypeWarning: Columns (15,33,34,35,36) have mixed types. Specify dtype option on import or set low_memory=False.\n",
      "  interactivity=interactivity, compiler=compiler, result=result)\n"
     ]
    }
   ],
   "source": [
    "good = pd.read_csv('/scratch/share/mohitsharma44/cusp-hack-17/sonycnode-b827eb2a1bce.sonyc-2017-01.csv')"
   ]
  },
  {
   "cell_type": "code",
   "execution_count": 33,
   "metadata": {},
   "outputs": [
    {
     "data": {
      "text/plain": [
       "(1116941, 37)"
      ]
     },
     "execution_count": 33,
     "metadata": {},
     "output_type": "execute_result"
    }
   ],
   "source": [
    "good.shape"
   ]
  },
  {
   "cell_type": "code",
   "execution_count": 34,
   "metadata": {},
   "outputs": [
    {
     "data": {
      "text/html": [
       "<div>\n",
       "<table border=\"1\" class=\"dataframe\">\n",
       "  <thead>\n",
       "    <tr style=\"text-align: right;\">\n",
       "      <th></th>\n",
       "      <th>Unnamed: 0</th>\n",
       "      <th>AP</th>\n",
       "      <th>RX_packets</th>\n",
       "      <th>TX_packets</th>\n",
       "      <th>branch</th>\n",
       "      <th>commit_date</th>\n",
       "      <th>commits</th>\n",
       "      <th>cpu_cur_freq</th>\n",
       "      <th>cpu_load_1</th>\n",
       "      <th>cpu_load_15</th>\n",
       "      <th>...</th>\n",
       "      <th>nodeid</th>\n",
       "      <th>position</th>\n",
       "      <th>root_usage</th>\n",
       "      <th>running_proc</th>\n",
       "      <th>time</th>\n",
       "      <th>tmp_usage</th>\n",
       "      <th>tun0_ip</th>\n",
       "      <th>usb_dev</th>\n",
       "      <th>wlan0_ip</th>\n",
       "      <th>wlan0_mac</th>\n",
       "    </tr>\n",
       "  </thead>\n",
       "  <tbody>\n",
       "    <tr>\n",
       "      <th>0</th>\n",
       "      <td>0</td>\n",
       "      <td>nyu-legacy</td>\n",
       "      <td>1712140864</td>\n",
       "      <td>3995228131</td>\n",
       "      <td>NaN</td>\n",
       "      <td>NaN</td>\n",
       "      <td>[{'id': ''}]</td>\n",
       "      <td>900000000</td>\n",
       "      <td>1.18</td>\n",
       "      <td>1.03</td>\n",
       "      <td>...</td>\n",
       "      <td>74da385c6868</td>\n",
       "      <td>{'lon': '-73.994374', 'lat': '40.729514'}</td>\n",
       "      <td>84.5</td>\n",
       "      <td>104</td>\n",
       "      <td>2017-01-01T00:00:03.213502</td>\n",
       "      <td>0.1</td>\n",
       "      <td>NaN</td>\n",
       "      <td>Bus 001 Device 005: ID 7392:7811 Edimax Techno...</td>\n",
       "      <td>NaN</td>\n",
       "      <td>NaN</td>\n",
       "    </tr>\n",
       "    <tr>\n",
       "      <th>1</th>\n",
       "      <td>1</td>\n",
       "      <td>nyu-legacy</td>\n",
       "      <td>1712148079</td>\n",
       "      <td>3995238846</td>\n",
       "      <td>NaN</td>\n",
       "      <td>NaN</td>\n",
       "      <td>[{'id': ''}]</td>\n",
       "      <td>900000000</td>\n",
       "      <td>1.18</td>\n",
       "      <td>1.03</td>\n",
       "      <td>...</td>\n",
       "      <td>74da385c6868</td>\n",
       "      <td>{'lon': '-73.994374', 'lat': '40.729514'}</td>\n",
       "      <td>84.5</td>\n",
       "      <td>104</td>\n",
       "      <td>2017-01-01T00:00:05.036621</td>\n",
       "      <td>0.1</td>\n",
       "      <td>NaN</td>\n",
       "      <td>Bus 001 Device 005: ID 7392:7811 Edimax Techno...</td>\n",
       "      <td>NaN</td>\n",
       "      <td>NaN</td>\n",
       "    </tr>\n",
       "    <tr>\n",
       "      <th>2</th>\n",
       "      <td>2</td>\n",
       "      <td>nyu-legacy</td>\n",
       "      <td>1712157641</td>\n",
       "      <td>3995251417</td>\n",
       "      <td>NaN</td>\n",
       "      <td>NaN</td>\n",
       "      <td>[{'id': ''}]</td>\n",
       "      <td>900000000</td>\n",
       "      <td>1.16</td>\n",
       "      <td>1.03</td>\n",
       "      <td>...</td>\n",
       "      <td>74da385c6868</td>\n",
       "      <td>{'lon': '-73.994374', 'lat': '40.729514'}</td>\n",
       "      <td>84.5</td>\n",
       "      <td>105</td>\n",
       "      <td>2017-01-01T00:00:08.154739</td>\n",
       "      <td>2.6</td>\n",
       "      <td>NaN</td>\n",
       "      <td>Bus 001 Device 005: ID 7392:7811 Edimax Techno...</td>\n",
       "      <td>NaN</td>\n",
       "      <td>NaN</td>\n",
       "    </tr>\n",
       "    <tr>\n",
       "      <th>3</th>\n",
       "      <td>3</td>\n",
       "      <td>nyu-legacy</td>\n",
       "      <td>1712206543</td>\n",
       "      <td>3995963532</td>\n",
       "      <td>NaN</td>\n",
       "      <td>NaN</td>\n",
       "      <td>[{'id': ''}]</td>\n",
       "      <td>900000000</td>\n",
       "      <td>1.16</td>\n",
       "      <td>1.03</td>\n",
       "      <td>...</td>\n",
       "      <td>74da385c6868</td>\n",
       "      <td>{'lon': '-73.994374', 'lat': '40.729514'}</td>\n",
       "      <td>84.5</td>\n",
       "      <td>105</td>\n",
       "      <td>2017-01-01T00:00:11.426794</td>\n",
       "      <td>0.1</td>\n",
       "      <td>NaN</td>\n",
       "      <td>Bus 001 Device 005: ID 7392:7811 Edimax Techno...</td>\n",
       "      <td>NaN</td>\n",
       "      <td>NaN</td>\n",
       "    </tr>\n",
       "    <tr>\n",
       "      <th>4</th>\n",
       "      <td>4</td>\n",
       "      <td>nyu-legacy</td>\n",
       "      <td>1712213758</td>\n",
       "      <td>3995974247</td>\n",
       "      <td>NaN</td>\n",
       "      <td>NaN</td>\n",
       "      <td>[{'id': ''}]</td>\n",
       "      <td>900000000</td>\n",
       "      <td>1.07</td>\n",
       "      <td>1.03</td>\n",
       "      <td>...</td>\n",
       "      <td>74da385c6868</td>\n",
       "      <td>{'lon': '-73.994374', 'lat': '40.729514'}</td>\n",
       "      <td>84.5</td>\n",
       "      <td>106</td>\n",
       "      <td>2017-01-01T00:00:13.150228</td>\n",
       "      <td>0.1</td>\n",
       "      <td>NaN</td>\n",
       "      <td>Bus 001 Device 005: ID 7392:7811 Edimax Techno...</td>\n",
       "      <td>NaN</td>\n",
       "      <td>NaN</td>\n",
       "    </tr>\n",
       "  </tbody>\n",
       "</table>\n",
       "<p>5 rows × 37 columns</p>\n",
       "</div>"
      ],
      "text/plain": [
       "   Unnamed: 0          AP  RX_packets  TX_packets  branch  commit_date  \\\n",
       "0           0  nyu-legacy  1712140864  3995228131     NaN          NaN   \n",
       "1           1  nyu-legacy  1712148079  3995238846     NaN          NaN   \n",
       "2           2  nyu-legacy  1712157641  3995251417     NaN          NaN   \n",
       "3           3  nyu-legacy  1712206543  3995963532     NaN          NaN   \n",
       "4           4  nyu-legacy  1712213758  3995974247     NaN          NaN   \n",
       "\n",
       "        commits  cpu_cur_freq  cpu_load_1  cpu_load_15    ...      \\\n",
       "0  [{'id': ''}]     900000000        1.18         1.03    ...       \n",
       "1  [{'id': ''}]     900000000        1.18         1.03    ...       \n",
       "2  [{'id': ''}]     900000000        1.16         1.03    ...       \n",
       "3  [{'id': ''}]     900000000        1.16         1.03    ...       \n",
       "4  [{'id': ''}]     900000000        1.07         1.03    ...       \n",
       "\n",
       "         nodeid                                   position  root_usage  \\\n",
       "0  74da385c6868  {'lon': '-73.994374', 'lat': '40.729514'}        84.5   \n",
       "1  74da385c6868  {'lon': '-73.994374', 'lat': '40.729514'}        84.5   \n",
       "2  74da385c6868  {'lon': '-73.994374', 'lat': '40.729514'}        84.5   \n",
       "3  74da385c6868  {'lon': '-73.994374', 'lat': '40.729514'}        84.5   \n",
       "4  74da385c6868  {'lon': '-73.994374', 'lat': '40.729514'}        84.5   \n",
       "\n",
       "   running_proc                        time tmp_usage tun0_ip  \\\n",
       "0           104  2017-01-01T00:00:03.213502       0.1     NaN   \n",
       "1           104  2017-01-01T00:00:05.036621       0.1     NaN   \n",
       "2           105  2017-01-01T00:00:08.154739       2.6     NaN   \n",
       "3           105  2017-01-01T00:00:11.426794       0.1     NaN   \n",
       "4           106  2017-01-01T00:00:13.150228       0.1     NaN   \n",
       "\n",
       "                                             usb_dev  wlan0_ip  wlan0_mac  \n",
       "0  Bus 001 Device 005: ID 7392:7811 Edimax Techno...       NaN        NaN  \n",
       "1  Bus 001 Device 005: ID 7392:7811 Edimax Techno...       NaN        NaN  \n",
       "2  Bus 001 Device 005: ID 7392:7811 Edimax Techno...       NaN        NaN  \n",
       "3  Bus 001 Device 005: ID 7392:7811 Edimax Techno...       NaN        NaN  \n",
       "4  Bus 001 Device 005: ID 7392:7811 Edimax Techno...       NaN        NaN  \n",
       "\n",
       "[5 rows x 37 columns]"
      ]
     },
     "execution_count": 34,
     "metadata": {},
     "output_type": "execute_result"
    }
   ],
   "source": [
    "good.head()"
   ]
  },
  {
   "cell_type": "code",
   "execution_count": 35,
   "metadata": {},
   "outputs": [
    {
     "data": {
      "text/plain": [
       "Unnamed: 0            int64\n",
       "AP                   object\n",
       "RX_packets            int64\n",
       "TX_packets            int64\n",
       "branch              float64\n",
       "commit_date         float64\n",
       "commits              object\n",
       "cpu_cur_freq          int64\n",
       "cpu_load_1          float64\n",
       "cpu_load_15         float64\n",
       "cpu_load_5          float64\n",
       "cpu_max_freq        float64\n",
       "cpu_min_freq        float64\n",
       "cpu_temp            float64\n",
       "disk_part            object\n",
       "eth0_mac             object\n",
       "fqdn                 object\n",
       "ingestion_server     object\n",
       "laeq                float64\n",
       "lceq                float64\n",
       "level_time           object\n",
       "lzeq                float64\n",
       "mem_available         int64\n",
       "mem_percent         float64\n",
       "mem_total             int64\n",
       "mem_used              int64\n",
       "music_usage         float64\n",
       "nodeid               object\n",
       "position             object\n",
       "root_usage          float64\n",
       "running_proc          int64\n",
       "time                 object\n",
       "tmp_usage           float64\n",
       "tun0_ip              object\n",
       "usb_dev              object\n",
       "wlan0_ip             object\n",
       "wlan0_mac            object\n",
       "dtype: object"
      ]
     },
     "execution_count": 35,
     "metadata": {},
     "output_type": "execute_result"
    }
   ],
   "source": [
    "good.dtypes"
   ]
  },
  {
   "cell_type": "code",
   "execution_count": 36,
   "metadata": {},
   "outputs": [],
   "source": [
    "# Change time to date time\n",
    "good['time'] = pd.to_datetime(good['time'])"
   ]
  },
  {
   "cell_type": "code",
   "execution_count": 46,
   "metadata": {},
   "outputs": [
    {
     "data": {
      "text/plain": [
       "Text(0.5,1,'CPU_cur_freq')"
      ]
     },
     "execution_count": 46,
     "metadata": {},
     "output_type": "execute_result"
    },
    {
     "data": {
      "image/png": "[encoded data removed]",
      "text/plain": [
       "<matplotlib.figure.Figure at 0x7fae514d9b00>"
      ]
     },
     "metadata": {},
     "output_type": "display_data"
    }
   ],
   "source": [
    "#Set total figure size\n",
    "pl.figure(figsize=(20,20))\n",
    "\n",
    "###############################################################################\n",
    "\n",
    "# Plot RX_packets\n",
    "pl.subplot(431) # Plot 1\n",
    "pl.plot(good.time,good.RX_packets)\n",
    "\n",
    "# Format Plot\n",
    "pl.xlabel(\"Time\")\n",
    "pl.ylabel(\"RX_packets\")\n",
    "pl.title(\"RX_packets\")\n",
    "\n",
    "###############################################################################\n",
    "\n",
    "# Plot TX_packets\n",
    "pl.subplot(432) # Plot 1\n",
    "pl.plot(good.time,good.TX_packets)\n",
    "\n",
    "# Format Plot\n",
    "pl.xlabel(\"Time\")\n",
    "pl.ylabel(\"TX_packets\")\n",
    "pl.title(\"TX_packets\")\n",
    "\n",
    "###############################################################################\n",
    "\n",
    "# Plot CPU_cur_freq\n",
    "pl.subplot(433) # Plot 1\n",
    "pl.plot(good.time,good.cpu_cur_freq)\n",
    "\n",
    "# Format Plot\n",
    "pl.xlabel(\"Time\")\n",
    "pl.ylabel(\"CPU_cur_freq\")\n",
    "pl.title(\"CPU_cur_freq\")\n",
    "\n",
    "###############################################################################\n",
    "\n",
    "# Plot cpu_load_1\n",
    "pl.subplot(433) # Plot 1\n",
    "pl.plot(good.time,good.cpu_load_1)\n",
    "\n",
    "# Format Plot\n",
    "pl.xlabel(\"Time\")\n",
    "pl.ylabel(\"cpu_load_1\")\n",
    "pl.title(\"cpu_load_1\")"
   ]
  },
  {
   "cell_type": "code",
   "execution_count": null,
   "metadata": {},
   "outputs": [],
   "source": [
    "branch, commit_date, commits, "
   ]
  },
  {
   "cell_type": "code",
   "execution_count": 44,
   "metadata": {
    "scrolled": true
   },
   "outputs": [
    {
     "data": {
      "text/plain": [
       "array([\"[{'id': ''}]\"], dtype=object)"
      ]
     },
     "execution_count": 44,
     "metadata": {},
     "output_type": "execute_result"
    }
   ],
   "source": [
    "good..unique()"
   ]
  },
  {
   "cell_type": "code",
   "execution_count": 40,
   "metadata": {},
   "outputs": [
    {
     "data": {
      "text/html": [
       "<div>\n",
       "<table border=\"1\" class=\"dataframe\">\n",
       "  <thead>\n",
       "    <tr style=\"text-align: right;\">\n",
       "      <th></th>\n",
       "      <th>Unnamed: 0</th>\n",
       "      <th>AP</th>\n",
       "      <th>RX_packets</th>\n",
       "      <th>TX_packets</th>\n",
       "      <th>branch</th>\n",
       "      <th>commit_date</th>\n",
       "      <th>commits</th>\n",
       "      <th>cpu_cur_freq</th>\n",
       "      <th>cpu_load_1</th>\n",
       "      <th>cpu_load_15</th>\n",
       "      <th>...</th>\n",
       "      <th>nodeid</th>\n",
       "      <th>position</th>\n",
       "      <th>root_usage</th>\n",
       "      <th>running_proc</th>\n",
       "      <th>time</th>\n",
       "      <th>tmp_usage</th>\n",
       "      <th>tun0_ip</th>\n",
       "      <th>usb_dev</th>\n",
       "      <th>wlan0_ip</th>\n",
       "      <th>wlan0_mac</th>\n",
       "    </tr>\n",
       "  </thead>\n",
       "  <tbody>\n",
       "    <tr>\n",
       "      <th>0</th>\n",
       "      <td>0</td>\n",
       "      <td>nyu-legacy</td>\n",
       "      <td>1712140864</td>\n",
       "      <td>3995228131</td>\n",
       "      <td>NaN</td>\n",
       "      <td>NaN</td>\n",
       "      <td>[{'id': ''}]</td>\n",
       "      <td>900000000</td>\n",
       "      <td>1.18</td>\n",
       "      <td>1.03</td>\n",
       "      <td>...</td>\n",
       "      <td>74da385c6868</td>\n",
       "      <td>{'lon': '-73.994374', 'lat': '40.729514'}</td>\n",
       "      <td>84.5</td>\n",
       "      <td>104</td>\n",
       "      <td>2017-01-01 00:00:03.213502</td>\n",
       "      <td>0.1</td>\n",
       "      <td>NaN</td>\n",
       "      <td>Bus 001 Device 005: ID 7392:7811 Edimax Techno...</td>\n",
       "      <td>NaN</td>\n",
       "      <td>NaN</td>\n",
       "    </tr>\n",
       "    <tr>\n",
       "      <th>1</th>\n",
       "      <td>1</td>\n",
       "      <td>nyu-legacy</td>\n",
       "      <td>1712148079</td>\n",
       "      <td>3995238846</td>\n",
       "      <td>NaN</td>\n",
       "      <td>NaN</td>\n",
       "      <td>[{'id': ''}]</td>\n",
       "      <td>900000000</td>\n",
       "      <td>1.18</td>\n",
       "      <td>1.03</td>\n",
       "      <td>...</td>\n",
       "      <td>74da385c6868</td>\n",
       "      <td>{'lon': '-73.994374', 'lat': '40.729514'}</td>\n",
       "      <td>84.5</td>\n",
       "      <td>104</td>\n",
       "      <td>2017-01-01 00:00:05.036621</td>\n",
       "      <td>0.1</td>\n",
       "      <td>NaN</td>\n",
       "      <td>Bus 001 Device 005: ID 7392:7811 Edimax Techno...</td>\n",
       "      <td>NaN</td>\n",
       "      <td>NaN</td>\n",
       "    </tr>\n",
       "    <tr>\n",
       "      <th>2</th>\n",
       "      <td>2</td>\n",
       "      <td>nyu-legacy</td>\n",
       "      <td>1712157641</td>\n",
       "      <td>3995251417</td>\n",
       "      <td>NaN</td>\n",
       "      <td>NaN</td>\n",
       "      <td>[{'id': ''}]</td>\n",
       "      <td>900000000</td>\n",
       "      <td>1.16</td>\n",
       "      <td>1.03</td>\n",
       "      <td>...</td>\n",
       "      <td>74da385c6868</td>\n",
       "      <td>{'lon': '-73.994374', 'lat': '40.729514'}</td>\n",
       "      <td>84.5</td>\n",
       "      <td>105</td>\n",
       "      <td>2017-01-01 00:00:08.154739</td>\n",
       "      <td>2.6</td>\n",
       "      <td>NaN</td>\n",
       "      <td>Bus 001 Device 005: ID 7392:7811 Edimax Techno...</td>\n",
       "      <td>NaN</td>\n",
       "      <td>NaN</td>\n",
       "    </tr>\n",
       "    <tr>\n",
       "      <th>3</th>\n",
       "      <td>3</td>\n",
       "      <td>nyu-legacy</td>\n",
       "      <td>1712206543</td>\n",
       "      <td>3995963532</td>\n",
       "      <td>NaN</td>\n",
       "      <td>NaN</td>\n",
       "      <td>[{'id': ''}]</td>\n",
       "      <td>900000000</td>\n",
       "      <td>1.16</td>\n",
       "      <td>1.03</td>\n",
       "      <td>...</td>\n",
       "      <td>74da385c6868</td>\n",
       "      <td>{'lon': '-73.994374', 'lat': '40.729514'}</td>\n",
       "      <td>84.5</td>\n",
       "      <td>105</td>\n",
       "      <td>2017-01-01 00:00:11.426794</td>\n",
       "      <td>0.1</td>\n",
       "      <td>NaN</td>\n",
       "      <td>Bus 001 Device 005: ID 7392:7811 Edimax Techno...</td>\n",
       "      <td>NaN</td>\n",
       "      <td>NaN</td>\n",
       "    </tr>\n",
       "    <tr>\n",
       "      <th>4</th>\n",
       "      <td>4</td>\n",
       "      <td>nyu-legacy</td>\n",
       "      <td>1712213758</td>\n",
       "      <td>3995974247</td>\n",
       "      <td>NaN</td>\n",
       "      <td>NaN</td>\n",
       "      <td>[{'id': ''}]</td>\n",
       "      <td>900000000</td>\n",
       "      <td>1.07</td>\n",
       "      <td>1.03</td>\n",
       "      <td>...</td>\n",
       "      <td>74da385c6868</td>\n",
       "      <td>{'lon': '-73.994374', 'lat': '40.729514'}</td>\n",
       "      <td>84.5</td>\n",
       "      <td>106</td>\n",
       "      <td>2017-01-01 00:00:13.150228</td>\n",
       "      <td>0.1</td>\n",
       "      <td>NaN</td>\n",
       "      <td>Bus 001 Device 005: ID 7392:7811 Edimax Techno...</td>\n",
       "      <td>NaN</td>\n",
       "      <td>NaN</td>\n",
       "    </tr>\n",
       "  </tbody>\n",
       "</table>\n",
       "<p>5 rows × 37 columns</p>\n",
       "</div>"
      ],
      "text/plain": [
       "   Unnamed: 0          AP  RX_packets  TX_packets  branch  commit_date  \\\n",
       "0           0  nyu-legacy  1712140864  3995228131     NaN          NaN   \n",
       "1           1  nyu-legacy  1712148079  3995238846     NaN          NaN   \n",
       "2           2  nyu-legacy  1712157641  3995251417     NaN          NaN   \n",
       "3           3  nyu-legacy  1712206543  3995963532     NaN          NaN   \n",
       "4           4  nyu-legacy  1712213758  3995974247     NaN          NaN   \n",
       "\n",
       "        commits  cpu_cur_freq  cpu_load_1  cpu_load_15    ...      \\\n",
       "0  [{'id': ''}]     900000000        1.18         1.03    ...       \n",
       "1  [{'id': ''}]     900000000        1.18         1.03    ...       \n",
       "2  [{'id': ''}]     900000000        1.16         1.03    ...       \n",
       "3  [{'id': ''}]     900000000        1.16         1.03    ...       \n",
       "4  [{'id': ''}]     900000000        1.07         1.03    ...       \n",
       "\n",
       "         nodeid                                   position  root_usage  \\\n",
       "0  74da385c6868  {'lon': '-73.994374', 'lat': '40.729514'}        84.5   \n",
       "1  74da385c6868  {'lon': '-73.994374', 'lat': '40.729514'}        84.5   \n",
       "2  74da385c6868  {'lon': '-73.994374', 'lat': '40.729514'}        84.5   \n",
       "3  74da385c6868  {'lon': '-73.994374', 'lat': '40.729514'}        84.5   \n",
       "4  74da385c6868  {'lon': '-73.994374', 'lat': '40.729514'}        84.5   \n",
       "\n",
       "   running_proc                       time tmp_usage tun0_ip  \\\n",
       "0           104 2017-01-01 00:00:03.213502       0.1     NaN   \n",
       "1           104 2017-01-01 00:00:05.036621       0.1     NaN   \n",
       "2           105 2017-01-01 00:00:08.154739       2.6     NaN   \n",
       "3           105 2017-01-01 00:00:11.426794       0.1     NaN   \n",
       "4           106 2017-01-01 00:00:13.150228       0.1     NaN   \n",
       "\n",
       "                                             usb_dev  wlan0_ip  wlan0_mac  \n",
       "0  Bus 001 Device 005: ID 7392:7811 Edimax Techno...       NaN        NaN  \n",
       "1  Bus 001 Device 005: ID 7392:7811 Edimax Techno...       NaN        NaN  \n",
       "2  Bus 001 Device 005: ID 7392:7811 Edimax Techno...       NaN        NaN  \n",
       "3  Bus 001 Device 005: ID 7392:7811 Edimax Techno...       NaN        NaN  \n",
       "4  Bus 001 Device 005: ID 7392:7811 Edimax Techno...       NaN        NaN  \n",
       "\n",
       "[5 rows x 37 columns]"
      ]
     },
     "execution_count": 40,
     "metadata": {},
     "output_type": "execute_result"
    }
   ],
   "source": [
    "good.head()"
   ]
  },
  {
   "cell_type": "code",
   "execution_count": null,
   "metadata": {},
   "outputs": [],
   "source": []
  },
  {
   "cell_type": "code",
   "execution_count": null,
   "metadata": {},
   "outputs": [],
   "source": []
  }
 ],
 "metadata": {
  "kernelspec": {
   "display_name": "PUI2016_Python3",
   "language": "python",
   "name": "pui2016_python3"
  },
  "language_info": {
   "codemirror_mode": {
    "name": "ipython",
    "version": 3
   },
   "file_extension": ".py",
   "mimetype": "text/x-python",
   "name": "python",
   "nbconvert_exporter": "python",
   "pygments_lexer": "ipython3",
   "version": "3.5.4"
  }
 },
 "nbformat": 4,
 "nbformat_minor": 2
}
